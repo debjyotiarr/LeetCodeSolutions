{
 "cells": [
  {
   "cell_type": "markdown",
   "metadata": {},
   "source": [
    "### Problem: You are given two non-empty linked lists representing two non-negative integers. The digits are stored in reverse order, and each of their nodes contains a single digit. Add the two numbers and return the sum as a linked list.\n",
    "\n",
    "You may assume the two numbers do not contain any leading zero, except the number 0 itself.\n",
    "\n",
    " \n",
    "\n",
    "Example 1:\n",
    "\n",
    "Input: l1 = [2,4,3], l2 = [5,6,4]\n",
    "Output: [7,0,8]\n",
    "Explanation: 342 + 465 = 807.\n",
    "\n",
    "Example 2:\n",
    "\n",
    "Input: l1 = [0], l2 = [0]\n",
    "Output: [0]\n",
    "\n",
    "Example 3:\n",
    "\n",
    "Input: l1 = [9,9,9,9,9,9,9], l2 = [9,9,9,9]\n",
    "Output: [8,9,9,9,0,0,0,1]"
   ]
  },
  {
   "cell_type": "code",
   "execution_count": null,
   "metadata": {},
   "outputs": [],
   "source": [
    "class Solution:\n",
    "    def addTwoNumbers(self, l1: Optional[ListNode], l2: Optional[ListNode]) -> Optional[ListNode]:\n",
    "        n1 = \"\"\n",
    "        n2 = \"\"\n",
    "        while(l1):\n",
    "            n1 = n1 + str(l1.val)\n",
    "            l1 = l1.next\n",
    "        while(l2):\n",
    "            n2 = n2 + str(l2.val)\n",
    "            l2 = l2.next\n",
    "        \n",
    "        n1 = int(n1[::-1])\n",
    "        n2 = int(n2[::-1])\n",
    "        s = str(n1 + n2)\n",
    "        s = s[::-1]\n",
    "        \n",
    "        lsum = None\n",
    "        link = None\n",
    "        for i in range(len(s)):\n",
    "            if lsum==None:\n",
    "                lsum = ListNode(s[i])\n",
    "                link = lsum\n",
    "            else:\n",
    "                link.next = ListNode(s[i])\n",
    "                link = link.next\n",
    "        \n",
    "    \n",
    "                    \n",
    "        return lsum"
   ]
  },
  {
   "cell_type": "markdown",
   "metadata": {},
   "source": [
    "This takes the number in the linked list and converts it into an integer. With two integers, the sum is performed and then the result is stored back into the linked list which is then returned. "
   ]
  },
  {
   "cell_type": "code",
   "execution_count": null,
   "metadata": {},
   "outputs": [],
   "source": []
  }
 ],
 "metadata": {
  "kernelspec": {
   "display_name": "Python 3",
   "language": "python",
   "name": "python3"
  },
  "language_info": {
   "codemirror_mode": {
    "name": "ipython",
    "version": 3
   },
   "file_extension": ".py",
   "mimetype": "text/x-python",
   "name": "python",
   "nbconvert_exporter": "python",
   "pygments_lexer": "ipython3",
   "version": "3.7.4"
  }
 },
 "nbformat": 4,
 "nbformat_minor": 2
}
