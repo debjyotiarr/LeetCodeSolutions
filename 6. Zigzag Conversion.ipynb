{
 "cells": [
  {
   "cell_type": "markdown",
   "metadata": {},
   "source": [
    "The string \"PAYPALISHIRING\" is written in a zigzag pattern on a given number of rows like this: (you may want to display this pattern in a fixed font for better legibility)\n",
    "\n",
    "P   A   H   N\n",
    "A P L S I I G\n",
    "Y   I   R\n",
    "And then read line by line: \"PAHNAPLSIIGYIR\"\n",
    "\n",
    "Write the code that will take a string and make this conversion given a number of rows:\n",
    "\n",
    "string convert(string s, int numRows);\n",
    " \n",
    "\n",
    "Example 1:\n",
    "\n",
    "Input: s = \"PAYPALISHIRING\", numRows = 3\n",
    "Output: \"PAHNAPLSIIGYIR\"\n",
    "Example 2:\n",
    "\n",
    "Input: s = \"PAYPALISHIRING\", numRows = 4\n",
    "Output: \"PINALSIGYAHRPI\"\n",
    "Explanation:\n",
    "P     I    N\n",
    "A   L S  I G\n",
    "Y A   H R\n",
    "P     I\n",
    "Example 3:\n",
    "\n",
    "Input: s = \"A\", numRows = 1\n",
    "Output: \"A\""
   ]
  },
  {
   "cell_type": "code",
   "execution_count": null,
   "metadata": {},
   "outputs": [],
   "source": [
    "class Solution:\n",
    "    def convert(self, s: str, numRows: int) -> str:\n",
    "        def downUp(s, start, row, nRows):\n",
    "            inter = 2 * nRows - 2*row - 2\n",
    "            return inter + start \n",
    "        def upDown(s, start, row, nRows):\n",
    "            inter = 2*row\n",
    "            return start + inter\n",
    "        \n",
    "        zigzag = []\n",
    "        if numRows == 1:\n",
    "            return s\n",
    "        if numRows > len(s) : \n",
    "            return s\n",
    "        for i in range(numRows):\n",
    "            ind = 0\n",
    "            start = i\n",
    "            zigzag.append(s[i])\n",
    "            while ind<len(s):\n",
    "                if i!=numRows-1 : \n",
    "                    ind = downUp(s,start,i, numRows)\n",
    "                    start = ind\n",
    "                    if ind < len(s):\n",
    "                        zigzag.append(s[ind])\n",
    "                        \n",
    "                        \n",
    "                #print(i, ind)\n",
    "                if i!=0: \n",
    "                    ind = upDown(s,start,i, numRows)\n",
    "                    start = ind\n",
    "                    if ind < len(s) and ind>0:\n",
    "                        zigzag.append(s[ind])\n",
    "                    #print(ind)\n",
    "        \n",
    "        return \"\".join(zigzag)"
   ]
  },
  {
   "cell_type": "markdown",
   "metadata": {},
   "source": [
    "The tricky thing here is to get the indices correct. One can go either up from down or down from up. Just count the characters and then one is done! "
   ]
  },
  {
   "cell_type": "code",
   "execution_count": null,
   "metadata": {},
   "outputs": [],
   "source": []
  }
 ],
 "metadata": {
  "kernelspec": {
   "display_name": "Python 3",
   "language": "python",
   "name": "python3"
  },
  "language_info": {
   "codemirror_mode": {
    "name": "ipython",
    "version": 3
   },
   "file_extension": ".py",
   "mimetype": "text/x-python",
   "name": "python",
   "nbconvert_exporter": "python",
   "pygments_lexer": "ipython3",
   "version": "3.7.4"
  }
 },
 "nbformat": 4,
 "nbformat_minor": 2
}
