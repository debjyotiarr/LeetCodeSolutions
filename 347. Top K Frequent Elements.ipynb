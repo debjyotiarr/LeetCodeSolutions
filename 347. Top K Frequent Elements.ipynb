{
 "cells": [
  {
   "cell_type": "markdown",
   "metadata": {},
   "source": [
    "### Problem: Given an integer array nums and an integer k, return the k most frequent elements. You may return the answer in any order. [Medium]\n",
    "\n",
    " \n",
    "\n",
    "Example 1:\n",
    "\n",
    "Input: nums = [1,1,1,2,2,3], k = 2\n",
    "Output: [1,2]\n",
    "Example 2:\n",
    "\n",
    "Input: nums = [1], k = 1\n",
    "Output: [1]\n",
    " \n",
    "\n",
    "Constraints:\n",
    "\n",
    "1 <= nums.length <= 105\n",
    "k is in the range [1, the number of unique elements in the array].\n",
    "It is guaranteed that the answer is unique.\n",
    " \n",
    "\n",
    "Follow up: Your algorithm's time complexity must be better than O(n log n), where n is the array's size."
   ]
  },
  {
   "cell_type": "code",
   "execution_count": null,
   "metadata": {},
   "outputs": [],
   "source": [
    "from collections import Counter\n",
    "class Solution:\n",
    "    def topKFrequent(self, nums: List[int], k: int) -> List[int]:\n",
    "        countNum = dict()\n",
    "        for i,n in enumerate(nums):\n",
    "            if n in countNum:\n",
    "                countNum[n] += 1\n",
    "            else:\n",
    "                countNum[n] = 1\n",
    "    \n",
    "        counterNum = Counter(countNum)\n",
    "        high = counterNum.most_common(k)\n",
    "        numList = [i[0] for i in high]\n",
    "        return numList"
   ]
  }
 ],
 "metadata": {
  "kernelspec": {
   "display_name": "Python 3",
   "language": "python",
   "name": "python3"
  },
  "language_info": {
   "codemirror_mode": {
    "name": "ipython",
    "version": 3
   },
   "file_extension": ".py",
   "mimetype": "text/x-python",
   "name": "python",
   "nbconvert_exporter": "python",
   "pygments_lexer": "ipython3",
   "version": "3.7.4"
  }
 },
 "nbformat": 4,
 "nbformat_minor": 2
}
