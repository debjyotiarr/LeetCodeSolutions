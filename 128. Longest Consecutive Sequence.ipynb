{
 "cells": [
  {
   "cell_type": "markdown",
   "metadata": {},
   "source": [
    "### Problem: Given an unsorted array of integers nums, return the length of the longest consecutive elements sequence.\n",
    "\n",
    "You must write an algorithm that runs in O(n) time.\n",
    "\n",
    " \n",
    "\n",
    "Example 1:\n",
    "\n",
    "Input: nums = [100,4,200,1,3,2]\n",
    "Output: 4\n",
    "Explanation: The longest consecutive elements sequence is [1, 2, 3, 4]. Therefore its length is 4.\n",
    "Example 2:\n",
    "\n",
    "Input: nums = [0,3,7,2,5,8,4,6,0,1]\n",
    "Output: 9\n",
    " \n",
    "\n",
    "Constraints:\n",
    "\n",
    "0 <= nums.length <= 10^5\n",
    "-10^9 <= nums[i] <= 10^9"
   ]
  },
  {
   "cell_type": "code",
   "execution_count": null,
   "metadata": {},
   "outputs": [],
   "source": [
    "class Solution:\n",
    "    def longestConsecutive(self, nums: List[int]) -> int:\n",
    "        sortedNums = sorted(nums)\n",
    "        maxLength = 1\n",
    "        length = 1\n",
    "        for i in range(1, len(sortedNums)):\n",
    "            if sortedNums[i]==sortedNums[i-1]+1 : \n",
    "                length += 1\n",
    "            elif sortedNums[i] == sortedNums[i-1]:\n",
    "                continue\n",
    "            else:\n",
    "                length = 1\n",
    "            \n",
    "            if maxLength < length : \n",
    "                maxLength = length\n",
    "            \n",
    "        if len(nums) == 0:\n",
    "            return 0\n",
    "        else:\n",
    "            return maxLength"
   ]
  }
 ],
 "metadata": {
  "kernelspec": {
   "display_name": "Python 3",
   "language": "python",
   "name": "python3"
  },
  "language_info": {
   "codemirror_mode": {
    "name": "ipython",
    "version": 3
   },
   "file_extension": ".py",
   "mimetype": "text/x-python",
   "name": "python",
   "nbconvert_exporter": "python",
   "pygments_lexer": "ipython3",
   "version": "3.7.4"
  }
 },
 "nbformat": 4,
 "nbformat_minor": 2
}
