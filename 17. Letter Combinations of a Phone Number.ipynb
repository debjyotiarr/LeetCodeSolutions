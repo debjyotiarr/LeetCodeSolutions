{
 "cells": [
  {
   "cell_type": "markdown",
   "metadata": {},
   "source": [
    "### Problem: Given a string containing digits from 2-9 inclusive, return all possible letter combinations that the number could represent. Return the answer in any order. [Medium]\n",
    "\n",
    "A mapping of digits to letters (just like on the telephone buttons) is given below. Note that 1 does not map to any letters.\n",
    "\n",
    "\n",
    " \n",
    "\n",
    "Example 1:\n",
    "\n",
    "Input: digits = \"23\"\n",
    "Output: [\"ad\",\"ae\",\"af\",\"bd\",\"be\",\"bf\",\"cd\",\"ce\",\"cf\"]\n",
    "Example 2:\n",
    "\n",
    "Input: digits = \"\"\n",
    "Output: []\n",
    "Example 3:\n",
    "\n",
    "Input: digits = \"2\"\n",
    "Output: [\"a\",\"b\",\"c\"]\n",
    " \n",
    "\n",
    "Constraints:\n",
    "\n",
    "0 <= digits.length <= 4\n",
    "digits[i] is a digit in the range ['2', '9']."
   ]
  },
  {
   "cell_type": "code",
   "execution_count": null,
   "metadata": {},
   "outputs": [],
   "source": [
    "class Solution:\n",
    "    def letterCombinations(self, digits: str) -> List[str]:\n",
    "        def twoListCombo(lst1, lst2): \n",
    "            lst = []\n",
    "            if len(lst2) == 0:\n",
    "                return lst1\n",
    "            for i in lst1 : \n",
    "                for j in lst2:\n",
    "                    lst.append(j+i)\n",
    "            return lst\n",
    "        phoneDict = dict()\n",
    "        phoneDict[\"2\"] = ['a','b','c']\n",
    "        phoneDict[\"3\"] = ['d','e','f']\n",
    "        phoneDict[\"4\"] = ['g','h','i']\n",
    "        phoneDict[\"5\"] = ['j','k','l']\n",
    "        phoneDict[\"6\"] = ['m','n','o']\n",
    "        phoneDict[\"7\"] = ['p','q','r','s']\n",
    "        phoneDict[\"8\"] = ['t','u','v']\n",
    "        phoneDict[\"9\"] = ['w','x','y','z']\n",
    "        \n",
    "        digList = [c for c in digits]\n",
    "        alphaList = [phoneDict[d] for d in digList]\n",
    "        #print(digList)\n",
    "        #print(alphaList)\n",
    "        lst = []\n",
    "        for i in range(len(alphaList)) : \n",
    "            lst = twoListCombo(alphaList[i],lst)\n",
    "        return lst\n",
    "        ## 42.345 faster and 98.82% lesser memory"
   ]
  },
  {
   "cell_type": "markdown",
   "metadata": {},
   "source": [
    "Use the concept of reccursion. Use two lists to generate a list. Then use that generated list with a third list to generate the resultant list etc. "
   ]
  },
  {
   "cell_type": "code",
   "execution_count": null,
   "metadata": {},
   "outputs": [],
   "source": []
  }
 ],
 "metadata": {
  "kernelspec": {
   "display_name": "Python 3",
   "language": "python",
   "name": "python3"
  },
  "language_info": {
   "codemirror_mode": {
    "name": "ipython",
    "version": 3
   },
   "file_extension": ".py",
   "mimetype": "text/x-python",
   "name": "python",
   "nbconvert_exporter": "python",
   "pygments_lexer": "ipython3",
   "version": "3.7.4"
  }
 },
 "nbformat": 4,
 "nbformat_minor": 2
}
