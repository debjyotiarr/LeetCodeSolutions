{
 "cells": [
  {
   "cell_type": "markdown",
   "metadata": {},
   "source": [
    "### Problem: Roman numerals are represented by seven different symbols: I, V, X, L, C, D and M. [Medium]\n",
    "\n",
    "Symbol       Value\n",
    "I             1\n",
    "V             5\n",
    "X             10\n",
    "L             50\n",
    "C             100\n",
    "D             500\n",
    "M             1000\n",
    "For example, 2 is written as II in Roman numeral, just two one's added together. 12 is written as XII, which is simply X + II. The number 27 is written as XXVII, which is XX + V + II.\n",
    "\n",
    "Roman numerals are usually written largest to smallest from left to right. However, the numeral for four is not IIII. Instead, the number four is written as IV. Because the one is before the five we subtract it making four. The same principle applies to the number nine, which is written as IX. There are six instances where subtraction is used:\n",
    "\n",
    "I can be placed before V (5) and X (10) to make 4 and 9. \n",
    "X can be placed before L (50) and C (100) to make 40 and 90. \n",
    "C can be placed before D (500) and M (1000) to make 400 and 900.\n",
    "Given an integer, convert it to a roman numeral.\n",
    "\n",
    " \n",
    "\n",
    "Example 1:\n",
    "\n",
    "Input: num = 3\n",
    "Output: \"III\"\n",
    "Explanation: 3 is represented as 3 ones.\n",
    "Example 2:\n",
    "\n",
    "Input: num = 58\n",
    "Output: \"LVIII\"\n",
    "Explanation: L = 50, V = 5, III = 3.\n",
    "Example 3:\n",
    "\n",
    "Input: num = 1994\n",
    "Output: \"MCMXCIV\"\n",
    "Explanation: M = 1000, CM = 900, XC = 90 and IV = 4.\n",
    " \n",
    "\n",
    "Constraints:\n",
    "\n",
    "1 <= num <= 3999"
   ]
  },
  {
   "cell_type": "code",
   "execution_count": null,
   "metadata": {},
   "outputs": [],
   "source": [
    "class Solution:\n",
    "    def intToRoman(self, num: int) -> str:\n",
    "        def breakDownNum(num:int) -> list : \n",
    "            l = []\n",
    "            divList = [1000, 100, 10]\n",
    "            for i in divList:\n",
    "                dig = num//i\n",
    "                num = num%i\n",
    "                \n",
    "                l.append(dig)\n",
    "            l.append(num)\n",
    "            return l\n",
    "        \n",
    "        def provideDigits(dig, str1, str2, str3):\n",
    "            if dig==0:\n",
    "                return \"\"\n",
    "            if dig == 9:\n",
    "                return str1 + str3\n",
    "            if dig == 4:\n",
    "                return str1 + str2\n",
    "            else:\n",
    "                s=\"\"\n",
    "                if dig>=5:\n",
    "                    s = s+str2\n",
    "                    dig = dig - 5\n",
    "                for i in range(dig):\n",
    "                    s = s+str1\n",
    "                return s\n",
    "        \n",
    "        \n",
    "        l = breakDownNum(num)\n",
    "        romNum = []\n",
    "        \n",
    "        romNum.append(provideDigits(l[0],\"M\",\"\",\"\"))\n",
    "        romNum.append(provideDigits(l[1],\"C\",\"D\",\"M\"))\n",
    "        romNum.append(provideDigits(l[2],\"X\",\"L\",\"C\"))\n",
    "        romNum.append(provideDigits(l[3],\"I\",\"V\",\"X\"))\n",
    "        \n",
    "        return \"\".join(romNum)"
   ]
  },
  {
   "cell_type": "markdown",
   "metadata": {},
   "source": [
    "There are two steps : \n",
    "1. Break down numbers into digits. These need to be converted to Roman numerals\n",
    "2. The tricky part is getting the cases like 4 or 9. Use a list to choose the strings for the Roman numerals."
   ]
  },
  {
   "cell_type": "code",
   "execution_count": null,
   "metadata": {},
   "outputs": [],
   "source": []
  }
 ],
 "metadata": {
  "kernelspec": {
   "display_name": "Python 3",
   "language": "python",
   "name": "python3"
  },
  "language_info": {
   "codemirror_mode": {
    "name": "ipython",
    "version": 3
   },
   "file_extension": ".py",
   "mimetype": "text/x-python",
   "name": "python",
   "nbconvert_exporter": "python",
   "pygments_lexer": "ipython3",
   "version": "3.7.4"
  }
 },
 "nbformat": 4,
 "nbformat_minor": 2
}
