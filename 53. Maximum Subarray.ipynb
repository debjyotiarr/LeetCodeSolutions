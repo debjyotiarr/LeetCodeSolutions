{
 "cells": [
  {
   "cell_type": "markdown",
   "metadata": {},
   "source": [
    "### Problem: Given an integer array nums, find the contiguous subarray (containing at least one number) which has the largest sum and return its sum. [Easy]\n",
    "\n",
    "A subarray is a contiguous part of an array.\n",
    "\n",
    " \n",
    "\n",
    "Example 1:\n",
    "\n",
    "Input: nums = [-2,1,-3,4,-1,2,1,-5,4]\n",
    "Output: 6\n",
    "Explanation: [4,-1,2,1] has the largest sum = 6.\n",
    "Example 2:\n",
    "\n",
    "Input: nums = [1]\n",
    "Output: 1\n",
    "Example 3:\n",
    "\n",
    "Input: nums = [5,4,-1,7,8]\n",
    "Output: 23\n"
   ]
  },
  {
   "cell_type": "code",
   "execution_count": null,
   "metadata": {},
   "outputs": [],
   "source": [
    "class Solution(object):\n",
    "    def maxSubArray(self, nums):\n",
    "        \"\"\"\n",
    "        :type nums: List[int]\n",
    "        :rtype: int\n",
    "        \"\"\"\n",
    "        sums = [0] * len(nums)\n",
    "        sums[0] = nums[0]\n",
    "        \n",
    "        for i in range(1,len(nums)):\n",
    "            sums[i] = max(nums[i], sums[i-1]+nums[i])\n",
    "        return max(sums)"
   ]
  }
 ],
 "metadata": {
  "kernelspec": {
   "display_name": "Python 3",
   "language": "python",
   "name": "python3"
  },
  "language_info": {
   "codemirror_mode": {
    "name": "ipython",
    "version": 3
   },
   "file_extension": ".py",
   "mimetype": "text/x-python",
   "name": "python",
   "nbconvert_exporter": "python",
   "pygments_lexer": "ipython3",
   "version": "3.7.4"
  }
 },
 "nbformat": 4,
 "nbformat_minor": 2
}
