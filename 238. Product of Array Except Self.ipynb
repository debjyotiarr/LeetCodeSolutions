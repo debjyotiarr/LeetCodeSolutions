{
 "cells": [
  {
   "cell_type": "markdown",
   "metadata": {},
   "source": [
    "### Problem: Given an integer array nums, return an array answer such that answer[i] is equal to the product of all the elements of nums except nums[i]. [Medium]\n",
    "\n",
    "The product of any prefix or suffix of nums is guaranteed to fit in a 32-bit integer.\n",
    "\n",
    "You must write an algorithm that runs in O(n) time and without using the division operation.\n",
    "\n",
    " \n",
    "\n",
    "Example 1:\n",
    "\n",
    "Input: nums = [1,2,3,4]\n",
    "Output: [24,12,8,6]\n",
    "Example 2:\n",
    "\n",
    "Input: nums = [-1,1,0,-3,3]\n",
    "Output: [0,0,9,0,0]\n",
    " \n",
    "\n",
    "Constraints:\n",
    "\n",
    "2 <= nums.length <= 105\n",
    "-30 <= nums[i] <= 30\n",
    "The product of any prefix or suffix of nums is guaranteed to fit in a 32-bit integer.\n",
    " \n",
    "\n",
    "Follow up: Can you solve the problem in O(1) extra space complexity? (The output array does not count as extra space for space complexity analysis.)"
   ]
  },
  {
   "cell_type": "code",
   "execution_count": null,
   "metadata": {},
   "outputs": [],
   "source": [
    "import numpy as np\n",
    "class Solution:\n",
    "    def productExceptSelf(self, nums: List[int]) -> List[int]:\n",
    "        forward_product = np.ones_like(nums)\n",
    "        backward_product = np.ones_like(nums)\n",
    "        \n",
    "        for j in range(1,len(nums)):\n",
    "            forward_product[j] = forward_product[j-1] * nums[j-1]\n",
    "        \n",
    "        for k in range(len(nums)-2, -1, -1):\n",
    "            backward_product[k] = backward_product[k+1] * nums[k+1]\n",
    "       \n",
    "\n",
    "        answer = [forward_product[i]*backward_product[i] for i in range(len(nums))]\n",
    "        return answer"
   ]
  }
 ],
 "metadata": {
  "kernelspec": {
   "display_name": "Python 3",
   "language": "python",
   "name": "python3"
  },
  "language_info": {
   "codemirror_mode": {
    "name": "ipython",
    "version": 3
   },
   "file_extension": ".py",
   "mimetype": "text/x-python",
   "name": "python",
   "nbconvert_exporter": "python",
   "pygments_lexer": "ipython3",
   "version": "3.7.4"
  }
 },
 "nbformat": 4,
 "nbformat_minor": 2
}
