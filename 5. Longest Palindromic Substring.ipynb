{
 "cells": [
  {
   "cell_type": "markdown",
   "metadata": {},
   "source": [
    "### Problem: Given a string s, return the longest palindromic substring in s.\n",
    "\n",
    " \n",
    "\n",
    "Example 1:\n",
    "\n",
    "Input: s = \"babad\"\n",
    "Output: \"bab\"\n",
    "Explanation: \"aba\" is also a valid answer.\n",
    "Example 2:\n",
    "\n",
    "Input: s = \"cbbd\"\n",
    "Output: \"bb\""
   ]
  },
  {
   "cell_type": "code",
   "execution_count": null,
   "metadata": {},
   "outputs": [],
   "source": [
    "class Solution:\n",
    "    \n",
    "        \n",
    "    def longestPalindrome(self, s: str) -> str:\n",
    "        def evenPalindrome(s:str, k:int) :\n",
    "            i = k - 1\n",
    "            j = k + 2\n",
    "            while (i>=0 and j<len(s) and s[i] == s[j]):\n",
    "                i = i-1\n",
    "                j = j+1\n",
    "            return i+1, j-1\n",
    "        \n",
    "        def oddPalindrome(s:str, k:int) : \n",
    "            i = k - 1\n",
    "            j = k + 1\n",
    "            \n",
    "            while (i>=0 and j < len(s) and s[i]==s[j]):\n",
    "                i = i - 1\n",
    "                j = j + 1\n",
    "                \n",
    "            return i+1, j-1\n",
    "        \n",
    "\n",
    "        maxLength = 0\n",
    "        a, b = 0, 0\n",
    "        x, y = 0, 0\n",
    "        for i in range(0,len(s)-1):\n",
    "            if s[i]==s[i+1]: \n",
    "                x, y = evenPalindrome(s, i)\n",
    "            if (i > 0 and s[i-1]==s[i+1]):\n",
    "                x1, y1 = oddPalindrome(s, i)\n",
    "                if (y-x) < (y1 - x1):\n",
    "                    y = y1\n",
    "                    x = x1\n",
    "            \n",
    "            \n",
    "            if maxLength < y - x : \n",
    "                a = x\n",
    "                b = y\n",
    "                maxLength = b-a\n",
    "        \n",
    "        return s[a:b+1]"
   ]
  },
  {
   "cell_type": "markdown",
   "metadata": {},
   "source": [
    "The idea here is to focus on a particular character and then expand around it. The expansion should be such that it's a palindrome. There are two cases - odd and even. Odd palindromes are those which contain odd number of characters, but are palindromes, with the central character occuring once. Even palindromes are those which have even number of characters, but are palindromes. \n",
    "\n",
    "Match lengths and find the longest palindrome. "
   ]
  },
  {
   "cell_type": "code",
   "execution_count": null,
   "metadata": {},
   "outputs": [],
   "source": []
  },
  {
   "cell_type": "code",
   "execution_count": null,
   "metadata": {},
   "outputs": [],
   "source": []
  }
 ],
 "metadata": {
  "kernelspec": {
   "display_name": "Python 3",
   "language": "python",
   "name": "python3"
  },
  "language_info": {
   "codemirror_mode": {
    "name": "ipython",
    "version": 3
   },
   "file_extension": ".py",
   "mimetype": "text/x-python",
   "name": "python",
   "nbconvert_exporter": "python",
   "pygments_lexer": "ipython3",
   "version": "3.7.4"
  }
 },
 "nbformat": 4,
 "nbformat_minor": 2
}
